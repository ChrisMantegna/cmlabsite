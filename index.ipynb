{
  "cells": [
    {
      "cell_type": "raw",
      "metadata": {},
      "source": [
        "---\n",
        "title: \"Progress makes a PhD...\\ My work in the Roberts Lab, University of Washington\"\n",
        "format: html\n",
        "layout: default\n",
        "toc: true\n",
        "sidebar:\n",
        "  right:\n",
        "    - toc\n",
        "    - categories\n",
        "listing:\n",
        "  contents: notebook  # Only lab notebook entries here\n",
        "  sort: \"date desc\"\n",
        "  fields: \n",
        "    - date\n",
        "    - title\n",
        "    - author\n",
        "    - categories\n",
        "    - reading-time\n",
        "---"
      ],
      "id": "95dd0131"
    },
    {
      "cell_type": "markdown",
      "metadata": {},
      "source": [
        "## Updates\n",
        "\n",
        "\n",
        "```{html}\n",
        "<div class=\"card-grid\" style=\"display: flex; gap: 1rem; flex-wrap: wrap;\">\n",
        "\n",
        "  <div class=\"card\" style=\"flex: 1; max-width: 300px; min-height: 400px; display: flex; flex-direction: column; justify-content: space-between;\">\n",
        "    <a href=\"updates/post20240828.qmd\"> \n",
        "      <img src=\"images/gel.png\" alt=\"Post 1\" style=\"width: 100%; height: 200px; object-fit: cover;\"/> <!-- Image scaled to fit -->\n",
        "      <div>\n",
        "        <h4><b>Settin' Up Gels with Sam</b></h4>\n",
        "        <p>Re-learning Gels</p>\n",
        "      </div>\n",
        "    </a>\n",
        "  </div>\n",
        "\n",
        "  <div class=\"card\" style=\"flex: 1; max-width: 300px; min-height: 400px; display: flex; flex-direction: column; justify-content: space-between;\">\n",
        "    <a href=\"updates/post20240829.qmd\"> \n",
        "      <img src=\"images/tubes.jpeg\" alt=\"Post 2\" style=\"width: 100%; height: 200px; object-fit: cover;\"/> <!-- Image scaled to fit -->\n",
        "      <div>\n",
        "        <h4><b>Extractions & Concentrations</b></h4>\n",
        "        <p>These mussels are making me work for it!</p>\n",
        "      </div>\n",
        "    </a>\n",
        "  </div>\n",
        "\n",
        "  <div class=\"card\" style=\"flex: 1; max-width: 300px; min-height: 400px; display: flex; flex-direction: column; justify-content: space-between;\">\n",
        "    <a href=\"updates/post20240917.qmd\"> \n",
        "      <img src=\"images/chiton.png\" alt=\"Post 3\" style=\"width: 100%; height: 200px; object-fit: cover;\"/> <!-- Image scaled to fit -->\n",
        "      <div>\n",
        "        <h4><b>September Goal Mid-Month Check-In</b></h4>\n",
        "        <p>Intentional plan for progress</p>\n",
        "      </div>\n",
        "    </a>\n",
        "  </div>\n",
        "\n",
        "</div>\n",
        "```\n",
        "\n",
        "\n",
        "## Daily Notebook Entries\n",
        "\n",
        "<!-- The listing feature will automatically generate the list of posts -->"
      ],
      "id": "30d7fc47"
    }
  ],
  "metadata": {
    "kernelspec": {
      "display_name": "Python 3",
      "language": "python",
      "name": "python3"
    }
  },
  "nbformat": 4,
  "nbformat_minor": 5
}