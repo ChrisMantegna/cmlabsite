{
  "cells": [
    {
      "cell_type": "raw",
      "metadata": {},
      "source": [
        "---\n",
        "title: \"Expanded Notebook Posts\"\n",
        "author: \"CM\"\n",
        "toc: true\n",
        "sidebar:\n",
        "  right:\n",
        "    - toc\n",
        "    - categories\n",
        "format:\n",
        "  html:\n",
        "    css: styles.css\n",
        "listing:\n",
        "    contents: posts\n",
        "    sort: \"date desc\"\n",
        "    fields:\n",
        "    - date\n",
        "    - title\n",
        "    - author\n",
        "    - categories\n",
        "    - reading-time \n",
        "---"
      ],
      "id": "ee44c654"
    },
    {
      "cell_type": "markdown",
      "metadata": {},
      "source": [
        "## August\n",
        "\n",
        "\n",
        "```{list}\n",
        "\n",
        "dir: posts filter: date date-format: \"MMMM yyyy\" \\# Group by month type: grid columns: 3 fields: - image - title - date - categories - reading-time image: true link: true\n",
        "\n",
        "```"
      ],
      "id": "9d5d7461"
    }
  ],
  "metadata": {
    "kernelspec": {
      "display_name": "Python 3",
      "language": "python",
      "name": "python3"
    }
  },
  "nbformat": 4,
  "nbformat_minor": 5
}