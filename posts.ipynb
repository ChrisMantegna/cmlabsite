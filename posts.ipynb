{
  "cells": [
    {
      "cell_type": "raw",
      "metadata": {},
      "source": [
        "---\n",
        "title: \"Expanded Notebook Posts\"\n",
        "author: \"CM\"\n",
        "toc: true\n",
        "sidebar:\n",
        "  right:\n",
        "    - toc\n",
        "    - categories\n",
        "format:\n",
        "  html:\n",
        "    css: styles.css\n",
        "listing:\n",
        "    contents: posts\n",
        "    sort: \"date desc\"\n",
        "    fields:\n",
        "    - date\n",
        "    - title\n",
        "    - author\n",
        "    - categories\n",
        "    - reading-time \n",
        "---"
      ],
      "id": "1303030f"
    },
    {
      "cell_type": "markdown",
      "metadata": {},
      "source": [
        "## August\n",
        "```{list}\n",
        "\n",
        "  dir: posts\n",
        "  filter: date\n",
        "  date-format: \"MMMM yyyy\" # Group by month\n",
        "  type: grid\n",
        "  columns: 3\n",
        "  fields: \n",
        "    - image\n",
        "    - title\n",
        "    - date\n",
        "    - categories\n",
        "    - reading-time\n",
        "  image: true\n",
        "  link: true"
      ],
      "id": "3a7b1bb2"
    }
  ],
  "metadata": {
    "kernelspec": {
      "display_name": "Python 3",
      "language": "python",
      "name": "python3"
    }
  },
  "nbformat": 4,
  "nbformat_minor": 5
}